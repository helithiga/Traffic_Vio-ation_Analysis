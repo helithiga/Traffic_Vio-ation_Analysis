{
  "nbformat": 4,
  "nbformat_minor": 0,
  "metadata": {
    "colab": {
      "name": "Traffic Violations Maryland.ipynb",
      "provenance": [],
      "collapsed_sections": [],
      "toc_visible": true,
      "authorship_tag": "ABX9TyMIZIrBIOV6M2ihN/m/io/n",
      "include_colab_link": true
    },
    "kernelspec": {
      "name": "python3",
      "display_name": "Python 3"
    },
    "language_info": {
      "name": "python"
    }
  },
  "cells": [
    {
      "cell_type": "markdown",
      "metadata": {
        "id": "view-in-github",
        "colab_type": "text"
      },
      "source": [
        "<a href=\"https://colab.research.google.com/github/helithiga/Traffic_Violation_Analysis/blob/main/Traffic_Violations_Maryland.ipynb\" target=\"_parent\"><img src=\"https://colab.research.google.com/assets/colab-badge.svg\" alt=\"Open In Colab\"/></a>"
      ]
    },
    {
      "cell_type": "markdown",
      "metadata": {
        "id": "k9O9vjATJvzd"
      },
      "source": [
        "# **Traffic Violation Analysis**"
      ]
    },
    {
      "cell_type": "markdown",
      "metadata": {
        "id": "YUkU46hgjwzb"
      },
      "source": [
        "# **Download Java**"
      ]
    },
    {
      "cell_type": "code",
      "metadata": {
        "id": "m62q-s5Ijn3y"
      },
      "source": [
        "!apt-get install openjdk-8-jdk-headless -qq > /dev/null"
      ],
      "execution_count": 1,
      "outputs": []
    },
    {
      "cell_type": "markdown",
      "metadata": {
        "id": "ZRCfA50Tj6Np"
      },
      "source": [
        "#  **Install Apache Spark 3.0.1 with Hadoop 2.7**"
      ]
    },
    {
      "cell_type": "code",
      "metadata": {
        "id": "SRNwF-yfkHeH"
      },
      "source": [
        "!wget -q https://www-us.apache.org/dist/spark/spark-3.1.1/spark-3.1.1-bin-hadoop3.2.tgz"
      ],
      "execution_count": 2,
      "outputs": []
    },
    {
      "cell_type": "markdown",
      "metadata": {
        "id": "onDq9E36kWSA"
      },
      "source": [
        "# **Unzip Folder**"
      ]
    },
    {
      "cell_type": "code",
      "metadata": {
        "id": "Zj2wWWZokWzQ"
      },
      "source": [
        "!tar xf spark-3.1.1-bin-hadoop3.2.tgz"
      ],
      "execution_count": 3,
      "outputs": []
    },
    {
      "cell_type": "markdown",
      "metadata": {
        "id": "NQX7PU0RkcTl"
      },
      "source": [
        "# **Install Find Spark**\n",
        "\n",
        "> It will locate Spark on the system and import it as a regular library.\n",
        "\n"
      ]
    },
    {
      "cell_type": "code",
      "metadata": {
        "id": "J6L2qUc8kted"
      },
      "source": [
        "!pip install -q findspark"
      ],
      "execution_count": 4,
      "outputs": []
    },
    {
      "cell_type": "markdown",
      "metadata": {
        "id": "sVEPWRKAkxJu"
      },
      "source": [
        "# **Settin up Envirnmental Variables**\n",
        "\n",
        "\n",
        "> This will enable us to run Pyspark in the Colab environment.\n",
        "\n"
      ]
    },
    {
      "cell_type": "code",
      "metadata": {
        "id": "YXIAHRsNk9-9"
      },
      "source": [
        "import os\n",
        "os.environ[\"JAVA_HOME\"] = \"/usr/lib/jvm/java-8-openjdk-amd64\"\n",
        "os.environ[\"SPARK_HOME\"] = \"/content/spark-3.1.1-bin-hadoop3.2\""
      ],
      "execution_count": 5,
      "outputs": []
    },
    {
      "cell_type": "code",
      "metadata": {
        "id": "ioxD5Lbxlm88"
      },
      "source": [
        "import findspark\n",
        "findspark.init()"
      ],
      "execution_count": 6,
      "outputs": []
    },
    {
      "cell_type": "code",
      "metadata": {
        "colab": {
          "base_uri": "https://localhost:8080/",
          "height": 35
        },
        "id": "_8m98oO-lxYT",
        "outputId": "70e978f7-2228-4389-f575-1af09844404f"
      },
      "source": [
        "findspark.find()"
      ],
      "execution_count": 7,
      "outputs": [
        {
          "output_type": "execute_result",
          "data": {
            "application/vnd.google.colaboratory.intrinsic+json": {
              "type": "string"
            },
            "text/plain": [
              "'/content/spark-3.1.1-bin-hadoop3.2'"
            ]
          },
          "metadata": {
            "tags": []
          },
          "execution_count": 7
        }
      ]
    },
    {
      "cell_type": "markdown",
      "metadata": {
        "id": "xOQin2cGI3Zq"
      },
      "source": [
        "# **Import dataset from the Drive**"
      ]
    },
    {
      "cell_type": "code",
      "metadata": {
        "id": "moYj7hf0IsJd",
        "colab": {
          "base_uri": "https://localhost:8080/"
        },
        "outputId": "d9da82ad-95fb-4c82-9051-d3df1951dec2"
      },
      "source": [
        "# Mounting Drive to import the data\n",
        "from google.colab import drive\n",
        "drive.mount('/content/MyDrive')"
      ],
      "execution_count": 8,
      "outputs": [
        {
          "output_type": "stream",
          "text": [
            "Mounted at /content/MyDrive\n"
          ],
          "name": "stdout"
        }
      ]
    },
    {
      "cell_type": "markdown",
      "metadata": {
        "id": "uxQmsXytmBVK"
      },
      "source": [
        "# **Loading data to PySpark**"
      ]
    },
    {
      "cell_type": "code",
      "metadata": {
        "id": "FfN1YMdznXCc"
      },
      "source": [
        "import pandas as pd\n",
        "import numpy as np\n",
        "import matplotlib.pyplot as plt\n",
        "from pyspark.sql import SparkSession\n",
        "spark = SparkSession.builder.master(\"local[*]\").getOrCreate()\n",
        "import pyspark.sql.functions as f\n",
        "from pyspark.sql.functions import *\n",
        "from pyspark.sql.types import DateType"
      ],
      "execution_count": 9,
      "outputs": []
    },
    {
      "cell_type": "code",
      "metadata": {
        "colab": {
          "base_uri": "https://localhost:8080/"
        },
        "id": "i56vrPa-mIcC",
        "outputId": "cf692277-a400-4e2e-c475-cfb773aa3bf3"
      },
      "source": [
        "# Load data to Task 1. Replace the path of the dataset\n",
        "data = spark.read.csv('/content/MyDrive/MyDrive/BigData/Dataset/DataSet.csv',header=True)\n",
        "data.show()"
      ],
      "execution_count": 11,
      "outputs": [
        {
          "output_type": "stream",
          "text": [
            "+------------+------------+--------------------+--------------------+-----+---------------+---------------+-------+---------------+-----------+--------------+-----------------------+----+\n",
            "|Date Of Stop|Time Of Stop|           SubAgency|            Location|Belts|Personal Injury|Property Damage|Alcohol|    VehicleType|       Make|Violation Type|Contributed To Accident|Year|\n",
            "+------------+------------+--------------------+--------------------+-----+---------------+---------------+-------+---------------+-----------+--------------+-----------------------+----+\n",
            "|  09/24/2013|    17:11:00|3rd district, Sil...|     8804 FLOWER AVE|   No|             No|             No|     No|02 - Automobile|       FORD|      Citation|                     No|2008|\n",
            "|  08/29/2017|    10:19:00|2nd district, Bet...|WISCONSIN AVE@ EL...|   No|             No|             No|     No|02 - Automobile|     TOYOTA|      Citation|                     No|2001|\n",
            "|  12/01/2014|    12:52:00|6th district, Gai...|CHRISTOPHER AVE/M...|   No|             No|            Yes|     No|02 - Automobile|      HONDA|      Citation|                     No|2001|\n",
            "|  08/29/2017|    09:22:00|3rd district, Sil...|CHERRY HILL RD./C...|   No|             No|            Yes|     No|02 - Automobile|       DODG|      Citation|                     No|1998|\n",
            "|  08/28/2017|    23:41:00|6th district, Gai...|355 @ SOUTH WESTL...|   No|             No|             No|     No|02 - Automobile|MINI COOPER|      Citation|                     No|2015|\n",
            "|  08/27/2013|    00:55:00|2nd district, Bet...|CONNECTICUT/CHEVY...|   No|             No|             No|     No|02 - Automobile|    HYUNDAI|      Citation|                     No|2013|\n",
            "|  10/08/2013|    13:23:00|4th district, Whe...|GEORGIA AVE / BEL...|   No|             No|             No|     No|02 - Automobile|       FORD|      Citation|                     No|1993|\n",
            "|  04/24/2015|    00:38:00|1st district, Roc...|EB MONTROSE PKWY/...|   No|             No|             No|     No|02 - Automobile|      DODGE|      Citation|                     No|2003|\n",
            "|  08/28/2017|    23:41:00|6th district, Gai...|355 @ SOUTH WESTL...|   No|             No|             No|     No|02 - Automobile|MINI COOPER|      Citation|                     No|2015|\n",
            "|  08/28/2017|    23:41:00|6th district, Gai...|355 @ SOUTH WESTL...|   No|             No|             No|     No|02 - Automobile|MINI COOPER|      Citation|                     No|2015|\n",
            "|  02/14/2014|    20:10:00|1st district, Roc...|GATEWAY CENTER DR...|   No|             No|             No|     No|02 - Automobile|       CADI|      Citation|                     No|2005|\n",
            "|  03/19/2012|    16:10:00|2nd district, Bet...|CLARENDON RD @ EL...|   No|             No|             No|     No|02 - Automobile|      HONDA|      Citation|                     No|1996|\n",
            "|  06/09/2012|    21:19:00|3rd district, Sil...|2068 HARLEQUIN TE...|   No|             No|             No|     No|02 - Automobile|  CHEVROLET|      Citation|                     No|2004|\n",
            "|  12/20/2012|    00:41:00|2nd district, Bet...|NORFOLK AVE /  ST...|   No|             No|             No|     No|02 - Automobile|       AUDI|      Citation|                     No|2005|\n",
            "|  07/20/2012|    23:12:00|5th district, Ger...|WISTERIA DR @ WAR...|   No|             No|             No|     No|02 - Automobile|       TOYT|      Citation|                     No|2002|\n",
            "|  09/11/2012|    21:47:00|4th district, Whe...|TWIG RD AT GOOD H...|  Yes|             No|             No|     No|02 - Automobile|      DODGE|      Citation|                     No|2009|\n",
            "|  07/23/2013|    23:15:00|4th district, Whe...|108 / OLD BALTIMO...|   No|             No|             No|     No|02 - Automobile|     SATURN|      Citation|                     No|2000|\n",
            "|  10/28/2013|    17:41:00|6th district, Gai...|EMORY GROVE RD @ ...|   No|             No|             No|     No|02 - Automobile|      HONDA|      Citation|                    Yes|2003|\n",
            "|  08/28/2017|    23:41:00|6th district, Gai...|355 @ SOUTH WESTL...|   No|             No|             No|     No|02 - Automobile|MINI COOPER|      Citation|                     No|2015|\n",
            "|  12/17/2015|    13:15:00|5th district, Ger...|19916 CRYSTAL ROC...|   No|             No|             No|     No|02 - Automobile|     TOYOTA|      Citation|                     No|2005|\n",
            "+------------+------------+--------------------+--------------------+-----+---------------+---------------+-------+---------------+-----------+--------------+-----------------------+----+\n",
            "only showing top 20 rows\n",
            "\n"
          ],
          "name": "stdout"
        }
      ]
    },
    {
      "cell_type": "markdown",
      "metadata": {
        "id": "TPQnWWMAMFxF"
      },
      "source": [
        "### **1. Identify the probability of accidents which occur when the driver is without seat belts and with alcohol**"
      ]
    },
    {
      "cell_type": "code",
      "metadata": {
        "colab": {
          "base_uri": "https://localhost:8080/"
        },
        "id": "Om7QTeWCAe0A",
        "outputId": "56278dcb-1b83-4fbe-db89-b789abcce3b6"
      },
      "source": [
        "# selecting relevant columns\n",
        "df_task1 = data.select('Belts','Alcohol','Contributed to Accident')\n",
        "\n",
        "# Filter data with seat belt violations and without alcohol\n",
        "df_task2 = df_task1.where(df_task1['Belts'] == 'Yes')\n",
        "df_task2 = df_task2.where(df_task2['Alcohol'] == 'No')\n",
        "\n",
        "count1 = df_task2.agg({\"Belts\":\"count\"})\n",
        "count1 = count1.withColumnRenamed(\"count(Belts)\",\"BeltViolationsOnlyCount\")\n",
        "\n",
        "df_task2.show()\n",
        "\n",
        "#counting number of occurrence\n",
        "x1 = df_task2.count()\n",
        "print (x1)\n",
        "\n",
        "#----------------------------------------------------------------------------------\n",
        "\n",
        "# Filter accidents with seat belt violation only\n",
        "df_task3 = df_task2.where(df_task2['Contributed to Accident'] == 'Yes')\n",
        "\n",
        "count2 = df_task3.agg({\"Contributed to Accident\":\"count\"})\n",
        "count2 = count2.withColumnRenamed(\"count(Contributed to Accident)\",\"BeltViolationsAccidentsCount\")\n",
        "\n",
        "df_task3.show()\n",
        "\n",
        "#counting number of occurrence\n",
        "y1 = df_task3.count()\n",
        "print (y1)\n",
        "\n",
        "#-----------------------------------------------------------------------------------\n",
        "\n",
        "# Filter data related to alcohol\n",
        "df_task4 = df_task1.where(df_task1['Alcohol'] == 'Yes')\n",
        "df_task4 = df_task4.where(df_task4['Belts'] == 'No')\n",
        "\n",
        "count3 = df_task4.agg({\"Alcohol\":\"count\"})\n",
        "count3 = count3.withColumnRenamed(\"count(Alcohol)\",\"WithAlcoholOnlyCount\")\n",
        "\n",
        "df_task4.show()\n",
        "\n",
        "#counting number of occurrence\n",
        "x2 = df_task4.count()\n",
        "print (x2)\n",
        "\n",
        "\n",
        "#------------------------------------------------------------------------------------\n",
        "\n",
        "# Filter accidents with alcohol only\n",
        "df_task5 = df_task4.where(df_task4['Contributed to Accident'] == 'Yes')\n",
        "\n",
        "count4 = df_task5.agg({\"Contributed to Accident\":\"count\"})\n",
        "count4 = count4.withColumnRenamed(\"count(Contributed to Accident)\",\"WithAlcoholAccidentsCount\")\n",
        "\n",
        "df_task5.show()\n",
        "\n",
        "#counting number of occurrence\n",
        "y2 = df_task5.count()\n",
        "print (y2)\n",
        "\n",
        "# Filter data related to both\n",
        "df_task6 = df_task1.where(df_task1['Alcohol'] == 'Yes')\n",
        "df_task6 = df_task6.where(df_task6['Belts'] == 'Yes')\n",
        "\n",
        "count5 = df_task6.agg({\"Alcohol\":\"count\"})\n",
        "count5 = count5.withColumnRenamed(\"count(Alcohol)\",\"BothCount\")\n",
        "\n",
        "df_task6.show()\n",
        "\n",
        "#counting number of occurrence\n",
        "x3 = df_task6.count()\n",
        "print (x3)\n",
        "\n",
        "\n",
        "#------------------------------------------------------------------------------------\n",
        "\n",
        "# Filter accidents with both\n",
        "df_task7 = df_task6.where(df_task6['Contributed to Accident'] == 'Yes')\n",
        "\n",
        "count6 = df_task7.agg({\"Contributed to Accident\":\"count\"})\n",
        "count6 = count6.withColumnRenamed(\"count(Contributed to Accident)\",\"WithBothAccidentsCount\")\n",
        "\n",
        "df_task7.show()\n",
        "\n",
        "#counting number of occurrence\n",
        "y3 = df_task7.count()\n",
        "print (y3)"
      ],
      "execution_count": 14,
      "outputs": [
        {
          "output_type": "stream",
          "text": [
            "+-----+-------+-----------------------+\n",
            "|Belts|Alcohol|Contributed to Accident|\n",
            "+-----+-------+-----------------------+\n",
            "|  Yes|     No|                     No|\n",
            "|  Yes|     No|                     No|\n",
            "|  Yes|     No|                     No|\n",
            "|  Yes|     No|                    Yes|\n",
            "|  Yes|     No|                     No|\n",
            "|  Yes|     No|                     No|\n",
            "|  Yes|     No|                     No|\n",
            "|  Yes|     No|                     No|\n",
            "|  Yes|     No|                     No|\n",
            "|  Yes|     No|                     No|\n",
            "|  Yes|     No|                     No|\n",
            "|  Yes|     No|                     No|\n",
            "|  Yes|     No|                     No|\n",
            "|  Yes|     No|                     No|\n",
            "|  Yes|     No|                     No|\n",
            "|  Yes|     No|                    Yes|\n",
            "|  Yes|     No|                     No|\n",
            "|  Yes|     No|                     No|\n",
            "|  Yes|     No|                     No|\n",
            "|  Yes|     No|                     No|\n",
            "+-----+-------+-----------------------+\n",
            "only showing top 20 rows\n",
            "\n",
            "34781\n",
            "+-----+-------+-----------------------+\n",
            "|Belts|Alcohol|Contributed to Accident|\n",
            "+-----+-------+-----------------------+\n",
            "|  Yes|     No|                    Yes|\n",
            "|  Yes|     No|                    Yes|\n",
            "|  Yes|     No|                    Yes|\n",
            "|  Yes|     No|                    Yes|\n",
            "|  Yes|     No|                    Yes|\n",
            "|  Yes|     No|                    Yes|\n",
            "|  Yes|     No|                    Yes|\n",
            "|  Yes|     No|                    Yes|\n",
            "|  Yes|     No|                    Yes|\n",
            "|  Yes|     No|                    Yes|\n",
            "|  Yes|     No|                    Yes|\n",
            "|  Yes|     No|                    Yes|\n",
            "|  Yes|     No|                    Yes|\n",
            "|  Yes|     No|                    Yes|\n",
            "|  Yes|     No|                    Yes|\n",
            "|  Yes|     No|                    Yes|\n",
            "|  Yes|     No|                    Yes|\n",
            "|  Yes|     No|                    Yes|\n",
            "|  Yes|     No|                    Yes|\n",
            "|  Yes|     No|                    Yes|\n",
            "+-----+-------+-----------------------+\n",
            "only showing top 20 rows\n",
            "\n",
            "3071\n",
            "+-----+-------+-----------------------+\n",
            "|Belts|Alcohol|Contributed to Accident|\n",
            "+-----+-------+-----------------------+\n",
            "|   No|    Yes|                     No|\n",
            "|   No|    Yes|                     No|\n",
            "|   No|    Yes|                     No|\n",
            "|   No|    Yes|                     No|\n",
            "|   No|    Yes|                     No|\n",
            "|   No|    Yes|                     No|\n",
            "|   No|    Yes|                     No|\n",
            "|   No|    Yes|                     No|\n",
            "|   No|    Yes|                     No|\n",
            "|   No|    Yes|                     No|\n",
            "|   No|    Yes|                     No|\n",
            "|   No|    Yes|                     No|\n",
            "|   No|    Yes|                     No|\n",
            "|   No|    Yes|                     No|\n",
            "|   No|    Yes|                     No|\n",
            "|   No|    Yes|                     No|\n",
            "|   No|    Yes|                    Yes|\n",
            "|   No|    Yes|                     No|\n",
            "|   No|    Yes|                     No|\n",
            "|   No|    Yes|                     No|\n",
            "+-----+-------+-----------------------+\n",
            "only showing top 20 rows\n",
            "\n",
            "1660\n",
            "+-----+-------+-----------------------+\n",
            "|Belts|Alcohol|Contributed to Accident|\n",
            "+-----+-------+-----------------------+\n",
            "|   No|    Yes|                    Yes|\n",
            "|   No|    Yes|                    Yes|\n",
            "|   No|    Yes|                    Yes|\n",
            "|   No|    Yes|                    Yes|\n",
            "|   No|    Yes|                    Yes|\n",
            "|   No|    Yes|                    Yes|\n",
            "|   No|    Yes|                    Yes|\n",
            "|   No|    Yes|                    Yes|\n",
            "|   No|    Yes|                    Yes|\n",
            "|   No|    Yes|                    Yes|\n",
            "|   No|    Yes|                    Yes|\n",
            "|   No|    Yes|                    Yes|\n",
            "|   No|    Yes|                    Yes|\n",
            "|   No|    Yes|                    Yes|\n",
            "|   No|    Yes|                    Yes|\n",
            "|   No|    Yes|                    Yes|\n",
            "|   No|    Yes|                    Yes|\n",
            "|   No|    Yes|                    Yes|\n",
            "|   No|    Yes|                    Yes|\n",
            "|   No|    Yes|                    Yes|\n",
            "+-----+-------+-----------------------+\n",
            "only showing top 20 rows\n",
            "\n",
            "145\n",
            "+-----+-------+-----------------------+\n",
            "|Belts|Alcohol|Contributed to Accident|\n",
            "+-----+-------+-----------------------+\n",
            "|  Yes|    Yes|                     No|\n",
            "|  Yes|    Yes|                     No|\n",
            "|  Yes|    Yes|                     No|\n",
            "|  Yes|    Yes|                     No|\n",
            "|  Yes|    Yes|                     No|\n",
            "|  Yes|    Yes|                    Yes|\n",
            "|  Yes|    Yes|                    Yes|\n",
            "|  Yes|    Yes|                    Yes|\n",
            "|  Yes|    Yes|                    Yes|\n",
            "|  Yes|    Yes|                    Yes|\n",
            "|  Yes|    Yes|                     No|\n",
            "|  Yes|    Yes|                     No|\n",
            "|  Yes|    Yes|                     No|\n",
            "|  Yes|    Yes|                     No|\n",
            "|  Yes|    Yes|                     No|\n",
            "|  Yes|    Yes|                     No|\n",
            "|  Yes|    Yes|                     No|\n",
            "|  Yes|    Yes|                     No|\n",
            "|  Yes|    Yes|                     No|\n",
            "|  Yes|    Yes|                     No|\n",
            "+-----+-------+-----------------------+\n",
            "only showing top 20 rows\n",
            "\n",
            "70\n",
            "+-----+-------+-----------------------+\n",
            "|Belts|Alcohol|Contributed to Accident|\n",
            "+-----+-------+-----------------------+\n",
            "|  Yes|    Yes|                    Yes|\n",
            "|  Yes|    Yes|                    Yes|\n",
            "|  Yes|    Yes|                    Yes|\n",
            "|  Yes|    Yes|                    Yes|\n",
            "|  Yes|    Yes|                    Yes|\n",
            "|  Yes|    Yes|                    Yes|\n",
            "|  Yes|    Yes|                    Yes|\n",
            "|  Yes|    Yes|                    Yes|\n",
            "|  Yes|    Yes|                    Yes|\n",
            "|  Yes|    Yes|                    Yes|\n",
            "|  Yes|    Yes|                    Yes|\n",
            "|  Yes|    Yes|                    Yes|\n",
            "|  Yes|    Yes|                    Yes|\n",
            "|  Yes|    Yes|                    Yes|\n",
            "|  Yes|    Yes|                    Yes|\n",
            "|  Yes|    Yes|                    Yes|\n",
            "|  Yes|    Yes|                    Yes|\n",
            "|  Yes|    Yes|                    Yes|\n",
            "+-----+-------+-----------------------+\n",
            "\n",
            "18\n"
          ],
          "name": "stdout"
        }
      ]
    },
    {
      "cell_type": "code",
      "metadata": {
        "colab": {
          "base_uri": "https://localhost:8080/"
        },
        "id": "Xmhj8oe6CT55",
        "outputId": "2a38a61b-c6c1-4d44-d873-bb0c1d1aa7be"
      },
      "source": [
        "#find probabilities of causing accidents;\n",
        "\n",
        "#with seat belt violation and no alcohol(p1) = count2/count1\n",
        "p1 = (y1/x1)\n",
        "print (\"Probability of causing accidents with seat belt violation only = \",p1)\n",
        "\n",
        "#with alcohol and without seat belt violation(p2) = count4/count3\n",
        "p2 = (y2/x2)\n",
        "print (\"Probability of causing accidents with alcohol only = \",p2)\n",
        "\n",
        "#with alcohol and with seat belt violation(p3) = count6/count5\n",
        "\n",
        "p3 = (y3/x3)\n",
        "print (\"Probability of causing accidents with both violations = \",p3)"
      ],
      "execution_count": 15,
      "outputs": [
        {
          "output_type": "stream",
          "text": [
            "Probability of causing accidents with seat belt violation only =  0.08829533365918174\n",
            "Probability of causing accidents with alcohol only =  0.08734939759036145\n",
            "Probability of causing accidents with both violations =  0.2571428571428571\n"
          ],
          "name": "stdout"
        }
      ]
    },
    {
      "cell_type": "markdown",
      "metadata": {
        "id": "0DNs3Xj0Q9AO"
      },
      "source": [
        "### **2. Identify the SubAgencies which have higher number of personal injury or property damage**\n"
      ]
    },
    {
      "cell_type": "code",
      "metadata": {
        "colab": {
          "base_uri": "https://localhost:8080/",
          "height": 736
        },
        "id": "_Z8JQoDeMpcQ",
        "outputId": "2ad63937-5e81-44fb-bf2c-4b50b07f6ccd"
      },
      "source": [
        "# Select relevant data for the task\n",
        "df_task3 = data.select('SubAgency','Personal Injury','Property Damage')\n",
        "\n",
        "#Filter data where Personal injury or Property Damage has been occured\n",
        "df_task3 = df_task3.where((df_task3['Personal Injury']=='Yes') | (df_task3['Property Damage']=='Yes'))\n",
        "\n",
        "# Take count of each\n",
        "count_pi = 0\n",
        "count_pd = 0 \n",
        "df_task3 = df_task3.withColumn('piCount',f.when((f.col(\"Personal Injury\") == 'Yes') , count_pi+1).otherwise(count_pi)).withColumn('pdCount',f.when((f.col(\"Property Damage\") == 'Yes') , count_pd+1).otherwise(count_pd))\n",
        "\n",
        "# Grouping in to SubAgency\n",
        "group_data = df_task3.groupBy('SubAgency').agg(sum('piCount').alias('Personal Injury Count'),\n",
        "                                  sum('pdCount').alias('Property Damage Count'))\n",
        "group_data.show()\n",
        "\n",
        "# convert DataFrame into Pandas\n",
        "df_pandas = group_data.toPandas()\n",
        "\n",
        "# Chart\n",
        "table = pd.pivot_table(data=df_pandas,index=['SubAgency'])\n",
        "table.plot(kind='bar',rot=90, ylabel='Count')\n"
      ],
      "execution_count": 16,
      "outputs": [
        {
          "output_type": "stream",
          "text": [
            "+--------------------+---------------------+---------------------+\n",
            "|           SubAgency|Personal Injury Count|Property Damage Count|\n",
            "+--------------------+---------------------+---------------------+\n",
            "|5th district, Ger...|                 1568|                 2223|\n",
            "|4th district, Whe...|                 3609|                 6076|\n",
            "|3rd district, Sil...|                 2537|                 5231|\n",
            "|6th district, Gai...|                 1532|                 2372|\n",
            "|2nd district, Bet...|                 2375|                 3726|\n",
            "|Headquarters and ...|                   85|                  167|\n",
            "|1st district, Roc...|                 1399|                 1884|\n",
            "+--------------------+---------------------+---------------------+\n",
            "\n"
          ],
          "name": "stdout"
        },
        {
          "output_type": "execute_result",
          "data": {
            "text/plain": [
              "<matplotlib.axes._subplots.AxesSubplot at 0x7fbebf6d5f10>"
            ]
          },
          "metadata": {
            "tags": []
          },
          "execution_count": 16
        },
        {
          "output_type": "display_data",
          "data": {
            "image/png": "[encoded data removed]",
            "text/plain": [
              "<Figure size 432x288 with 1 Axes>"
            ]
          },
          "metadata": {
            "tags": [],
            "needs_background": "light"
          }
        }
      ]
    },
    {
      "cell_type": "markdown",
      "metadata": {
        "id": "sZEj11x-Ulkw"
      },
      "source": [
        "### **3. Identify the locations of maximum number of traffic violations which occur due to alcohol consumption**"
      ]
    },
    {
      "cell_type": "code",
      "metadata": {
        "colab": {
          "base_uri": "https://localhost:8080/",
          "height": 927
        },
        "id": "8BeO92snUpr7",
        "outputId": "9c7cc809-cd5a-4175-839b-a9ca9452c8d2"
      },
      "source": [
        "# Select relevant Columns\n",
        "df_task4 = data.select('Location','Alcohol')\n",
        "\n",
        "# Filter location that Alchol violation has been happened.\n",
        "df_task4 = df_task4.where(df_task4['Alcohol']=='Yes')\n",
        "# df_task4.show()\n",
        "\n",
        "# Group by the Locations\n",
        "group_data = df_task4.groupby('Location').agg(count('Alcohol').alias('Number of Alcohol Violations'))\n",
        "group_data = group_data.sort(col(\"Number of Alcohol Violations\").desc()).limit(20)\n",
        "group_data.show()\n",
        "\n",
        "# Chart\n",
        "pd_task4 = group_data.toPandas()\n",
        "\n",
        "plt.bar(pd_task4[\"Location\"],pd_task4[\"Number of Alcohol Violations\"])\n",
        "plt.xticks(rotation=90)\n",
        "\n",
        "# visualize chart\n",
        "plt.show()\n"
      ],
      "execution_count": 17,
      "outputs": [
        {
          "output_type": "stream",
          "text": [
            "+--------------------+----------------------------+\n",
            "|            Location|Number of Alcohol Violations|\n",
            "+--------------------+----------------------------+\n",
            "|RIDGE RD AND BETH...|                          77|\n",
            "|WOODFIELD ROAD AN...|                          53|\n",
            "|RIDGE ROAD AND BR...|                          42|\n",
            "|RIDGE ROAD AND BE...|                          34|\n",
            "|FATHER HURLEY BLV...|                          32|\n",
            "|VEIRS MILL RD @ N...|                          26|\n",
            "|RIDGE ROAD AND OA...|                          25|\n",
            "|WHITES FERRY RD/W...|                          25|\n",
            "|RIDGE RD AND APPL...|                          23|\n",
            "|NEW HAMPSHIRE AVE...|                          22|\n",
            "|10904 BETHESDA CH...|                          19|\n",
            "|GEORGIA AVE / ROS...|                          18|\n",
            "|SHADY GROVE RD / ...|                          17|\n",
            "|CENTURY BLVD AND ...|                          17|\n",
            "|RIDGE ROAD AND SK...|                          17|\n",
            "| RIDGE RD AND OAK DR|                          16|\n",
            "|WESTLAKE DRIVE @ ...|                          16|\n",
            "|RIDGE RD AND SKYL...|                          15|\n",
            "|BETHESDA CHURCH R...|                          15|\n",
            "|FIELDS RD / COPLE...|                          15|\n",
            "+--------------------+----------------------------+\n",
            "\n"
          ],
          "name": "stdout"
        },
        {
          "output_type": "display_data",
          "data": {
            "image/png": "[encoded data removed]",
            "text/plain": [
              "<Figure size 432x288 with 1 Axes>"
            ]
          },
          "metadata": {
            "tags": [],
            "needs_background": "light"
          }
        }
      ]
    },
    {
      "cell_type": "markdown",
      "metadata": {
        "id": "7YvVv0vjXjyC"
      },
      "source": [
        "### **4. Identify whether there is a relationship between manufacturer of the vehicle and accidents**"
      ]
    },
    {
      "cell_type": "code",
      "metadata": {
        "colab": {
          "base_uri": "https://localhost:8080/",
          "height": 447
        },
        "id": "qsAs036wXvgX",
        "outputId": "eeb2fba9-d97d-42c4-f302-370a2b094bcf"
      },
      "source": [
        "# Select relevent columns\n",
        "df_task8 = data.select('Make','Contributed To Accident')\n",
        "\n",
        "# Filter the data where accidents occur\n",
        "df_task8 = df_task8.where(df_task8['Contributed to Accident'] == 'Yes')\n",
        "\n",
        "# Group data from Vehicle type.\n",
        "group_data = df_task8.groupby([\"Make\",\"Contributed To Accident\"]).agg({\"Contributed To Accident\":\"count\"})\n",
        "group_data = group_data.withColumnRenamed(\"count(Contributed To Accident)\",\"Number of Accidents\")\n",
        "\n",
        "group_data = group_data.sort(col(\"Number of Accidents\").desc()).limit(5)\n",
        "\n",
        "# Dipaly Data\n",
        "group_data.show()\n",
        "group_data.count()\n",
        "\n",
        "# Chart\n",
        "group_data = group_data.toPandas()\n",
        "group_data.plot.bar(title=\"Contributed To Accident\",x='Make',y='Number of Accidents',figsize=(6,3),xlabel='Manufacturer',ylabel='Accident Count');"
      ],
      "execution_count": 18,
      "outputs": [
        {
          "output_type": "stream",
          "text": [
            "+------+-----------------------+-------------------+\n",
            "|  Make|Contributed To Accident|Number of Accidents|\n",
            "+------+-----------------------+-------------------+\n",
            "|TOYOTA|                    Yes|               3548|\n",
            "| HONDA|                    Yes|               3306|\n",
            "|  FORD|                    Yes|               2824|\n",
            "|NISSAN|                    Yes|               1519|\n",
            "|  TOYT|                    Yes|               1365|\n",
            "+------+-----------------------+-------------------+\n",
            "\n"
          ],
          "name": "stdout"
        },
        {
          "output_type": "display_data",
          "data": {
            "image/png": "[encoded data removed]",
            "text/plain": [
              "<Figure size 432x216 with 1 Axes>"
            ]
          },
          "metadata": {
            "tags": [],
            "needs_background": "light"
          }
        }
      ]
    },
    {
      "cell_type": "markdown",
      "metadata": {
        "id": "UH8Jk68Wa8pC"
      },
      "source": [
        "### **5. The number of accidents which occur due to traffic violations based on vehicle type**"
      ]
    },
    {
      "cell_type": "code",
      "metadata": {
        "colab": {
          "base_uri": "https://localhost:8080/",
          "height": 537
        },
        "id": "AX4K7Or-bA9n",
        "outputId": "63807e81-d612-422e-99dc-0a9dfdb82265"
      },
      "source": [
        "# Select relevent columns\n",
        "df_task1 = data.select('VehicleType','Contributed To Accident')\n",
        "# df_task1.show()\n",
        "\n",
        "# Filter the data where accidents occur\n",
        "df_task1 = df_task1.where(df_task1['Contributed to Accident'] == 'Yes')\n",
        "\n",
        "# Group data from Vehicle type.\n",
        "group_data = df_task1.groupby([\"VehicleType\",\"Contributed To Accident\"]).agg(count(\"Contributed To Accident\").alias('Number of Accidents'))\n",
        "group_data = group_data.sort(col('Number of Accidents').desc()).limit(5)\n",
        "\n",
        "# Dipaly Data\n",
        "group_data.show()\n",
        "\n",
        "# convert DataFrame into Pandas\n",
        "df_pandas = group_data.toPandas()\n",
        "df_pandas\n",
        "\n",
        "# Chart\n",
        "plt.bar(df_pandas[\"VehicleType\"],df_pandas[\"Number of Accidents\"])\n",
        "plt.xticks(rotation=90)\n",
        "\n",
        "# visualize chart\n",
        "plt.show()\n"
      ],
      "execution_count": 19,
      "outputs": [
        {
          "output_type": "stream",
          "text": [
            "+--------------------+-----------------------+-------------------+\n",
            "|         VehicleType|Contributed To Accident|Number of Accidents|\n",
            "+--------------------+-----------------------+-------------------+\n",
            "|     02 - Automobile|                    Yes|              23354|\n",
            "|05 - Light Duty T...|                    Yes|               1319|\n",
            "|          28 - Other|                    Yes|                529|\n",
            "|     01 - Motorcycle|                    Yes|                348|\n",
            "|  03 - Station Wagon|                    Yes|                338|\n",
            "+--------------------+-----------------------+-------------------+\n",
            "\n"
          ],
          "name": "stdout"
        },
        {
          "output_type": "display_data",
          "data": {
            "image/png": "[encoded data removed]",
            "text/plain": [
              "<Figure size 432x288 with 1 Axes>"
            ]
          },
          "metadata": {
            "tags": [],
            "needs_background": "light"
          }
        }
      ]
    },
    {
      "cell_type": "markdown",
      "metadata": {
        "id": "jyLWnGI4eMKh"
      },
      "source": [
        "### **6. Identify the correlation between accidents and time of the day**"
      ]
    },
    {
      "cell_type": "code",
      "metadata": {
        "colab": {
          "base_uri": "https://localhost:8080/",
          "height": 962
        },
        "id": "Oj9bkcuIeUVW",
        "outputId": "7694ce37-f9f6-4fa6-b048-366d9b98823a"
      },
      "source": [
        "# Select relevent columns\n",
        "df_task15 = data.select('Time Of Stop','Contributed To Accident')\n",
        "\n",
        "# Filter the data where accidents occur\n",
        "df_task15 = df_task15.where(df_task15['Contributed to Accident'] == 'Yes')\n",
        "\n",
        "#Sort above based on time\n",
        "#sorted=group_data.orderBy('Time Of Stop')\n",
        "#sorted.show()\n",
        "\n",
        "# Here contain 24hr clock. To get more simple consider only the hour that accident is happened. \n",
        "#Take the hour for each timestamp\n",
        "sorted = (df_task15.select(\"Time Of Stop\").withColumn(\"hour\", hour(\"Time Of Stop\")))\n",
        "\n",
        "\n",
        "#Join above datafrmaes by outter join.\n",
        "df = df_task15.join(sorted, on=['Time Of Stop'], how='outer')\n",
        "\n",
        "\n",
        "\n",
        "# Group data from Vehicle type.\n",
        "group_data = df.groupby([\"hour\",\"Contributed To Accident\"]).agg(count(\"Contributed To Accident\").alias('Number of Accidents'))\n",
        "group_data=group_data.sort('hour')\n",
        "\n",
        "# Dipaly Data\n",
        "group_data.show()\n",
        "\n",
        "\n",
        "# Chart\n",
        "# convert DataFrame into Pandas\n",
        "df_pandas = group_data.toPandas()\n",
        "df_pandas\n",
        "\n",
        "# Creating dimensions(VehicleType,Contributed To Accident,count)\n",
        "df_pivot = pd.pivot_table(\n",
        "\tdf_pandas,\n",
        "\tvalues=\"Number of Accidents\",\n",
        "\tindex=\"hour\",\n",
        "\tcolumns=\"Contributed To Accident\",\n",
        "\taggfunc=np.sum\n",
        ")\n",
        "\n",
        "# Plot a bar chart using the DF\n",
        "ax=df_pivot.plot(kind=\"bar\")\n",
        "\n",
        "# Get a Matplotlib figure from the axes object for formatting purposes\n",
        "fig = ax.get_figure()\n",
        "\n",
        "# Change the plot dimensions (width, height)\n",
        "fig.set_size_inches(10, 8)\n",
        "\n",
        "# Change the axes labels\n",
        "ax.set_xlabel(\"Hour of Day\")\n",
        "ax.set_ylabel(\"Number of Accidents\")\n",
        "\n",
        "\n",
        "# Visualize the data\n",
        "plt.show()\n",
        "\n"
      ],
      "execution_count": 20,
      "outputs": [
        {
          "output_type": "stream",
          "text": [
            "+----+-----------------------+-------------------+\n",
            "|hour|Contributed To Accident|Number of Accidents|\n",
            "+----+-----------------------+-------------------+\n",
            "|   0|                    Yes|              25569|\n",
            "|   1|                    Yes|              20469|\n",
            "|   2|                    Yes|              17916|\n",
            "|   3|                    Yes|              21800|\n",
            "|   4|                    Yes|              11633|\n",
            "|   5|                    Yes|               8236|\n",
            "|   6|                    Yes|              11085|\n",
            "|   7|                    Yes|              21691|\n",
            "|   8|                    Yes|              32125|\n",
            "|   9|                    Yes|              25794|\n",
            "|  10|                    Yes|              18292|\n",
            "|  11|                    Yes|              21732|\n",
            "|  12|                    Yes|              20813|\n",
            "|  13|                    Yes|              20124|\n",
            "|  14|                    Yes|              25619|\n",
            "|  15|                    Yes|              33790|\n",
            "|  16|                    Yes|              53687|\n",
            "|  17|                    Yes|              62465|\n",
            "|  18|                    Yes|              43339|\n",
            "|  19|                    Yes|              37992|\n",
            "+----+-----------------------+-------------------+\n",
            "only showing top 20 rows\n",
            "\n"
          ],
          "name": "stdout"
        },
        {
          "output_type": "display_data",
          "data": {
            "image/png": "[encoded data removed]",
            "text/plain": [
              "<Figure size 720x576 with 1 Axes>"
            ]
          },
          "metadata": {
            "tags": [],
            "needs_background": "light"
          }
        }
      ]
    },
    {
      "cell_type": "markdown",
      "metadata": {
        "id": "MWmYt8sTgPRo"
      },
      "source": [
        "### **7. Identify the sub agencies which occur the least number of accidents**"
      ]
    },
    {
      "cell_type": "code",
      "metadata": {
        "colab": {
          "base_uri": "https://localhost:8080/",
          "height": 704
        },
        "id": "8QzjWq0SgRTO",
        "outputId": "c92f0b72-29bb-470e-aabb-7b6c0acb21bb"
      },
      "source": [
        "# Select relevent columns\n",
        "df_task1 = data.select('SubAgency','Contributed to Accident')\n",
        "\n",
        "# Filter the data where Accidents occured\n",
        "df_task1 = df_task1.where(df_task1['Contributed to Accident'] == 'Yes')\n",
        "\n",
        "# Remove null values\n",
        "df_task1.dropna(subset=[\"Contributed to Accident\"])\n",
        "\n",
        "# Group data into SubAgencies and Renaming aggregated column\n",
        "group_data = df_task1.groupby(\"SubAgency\").agg(count(\"Contributed to Accident\").alias('Number of Accidents'))\n",
        "\n",
        "# Sort data by count\n",
        "group_data = group_data.sort('Number of Accidents')\n",
        "\n",
        "# Display data\n",
        "group_data.show()\n",
        "\n",
        "# Convert Dataframe to pandas\n",
        "df_pandas = group_data.toPandas()\n",
        "\n",
        "# Plot the chart using matplotlib\n",
        "plt.bar(df_pandas[\"SubAgency\"],df_pandas[\"Number of Accidents\"])\n",
        "plt.xticks(rotation=90)\n",
        "\n",
        "# visualize chart\n",
        "plt.show()"
      ],
      "execution_count": 21,
      "outputs": [
        {
          "output_type": "stream",
          "text": [
            "+--------------------+-------------------+\n",
            "|           SubAgency|Number of Accidents|\n",
            "+--------------------+-------------------+\n",
            "|Headquarters and ...|                250|\n",
            "|5th district, Ger...|               2501|\n",
            "|1st district, Roc...|               2645|\n",
            "|6th district, Gai...|               3103|\n",
            "|3rd district, Sil...|               5140|\n",
            "|2nd district, Bet...|               5152|\n",
            "|4th district, Whe...|               7849|\n",
            "+--------------------+-------------------+\n",
            "\n"
          ],
          "name": "stdout"
        },
        {
          "output_type": "display_data",
          "data": {
            "image/png": "[encoded data removed]",
            "text/plain": [
              "<Figure size 432x288 with 1 Axes>"
            ]
          },
          "metadata": {
            "tags": [],
            "needs_background": "light"
          }
        }
      ]
    },
    {
      "cell_type": "markdown",
      "metadata": {
        "id": "gwDBLpzUhT6a"
      },
      "source": [
        "### **8. Identify the most commonly occurring violation type which causes an accident traffic violation(Warning, Citation, SERO) from 2012 to 2018**"
      ]
    },
    {
      "cell_type": "code",
      "metadata": {
        "colab": {
          "base_uri": "https://localhost:8080/",
          "height": 881
        },
        "id": "lkl8OMgxhXU2",
        "outputId": "f960ba21-87f6-49d4-c5e3-23899300afff"
      },
      "source": [
        "# Select relevent columns \n",
        "df_task2 = data.select(f.year(f.to_timestamp(data['Date Of Stop'],'MM/dd/yyyy')).alias('Year'),data['Violation Type'])\n",
        "\n",
        "# Remove null values in Year\n",
        "df_task2.dropna(subset=[\"Year\"])\n",
        "\n",
        "# Filter data between 2012 and 2018\n",
        "df_task2 = df_task2.where((df_task2['Year']>='2012') & (df_task2['Year']<='2018'))\n",
        "\n",
        "# Group data from Violation type and Year. Rename the aggregated column\n",
        "group_data = df_task2.groupby([\"Violation Type\",\"Year\"]).agg({\"Year\":\"count\"})\n",
        "group_data = group_data.withColumnRenamed(\"count(Year)\",\"Number of Violations\")\n",
        "\n",
        "# Dipaly Data\n",
        "group_data.show()\n",
        "\n",
        "# convert DataFrame into Pandas\n",
        "df_pandas = group_data.toPandas()\n",
        "\n",
        "# Creating Pviot using 3 dimensions(Violation Type, Year,Count)\n",
        "df_pivot = pd.pivot_table(\n",
        "\tdf_pandas,\n",
        "\tvalues=\"Number of Violations\",\n",
        "\tindex=\"Violation Type\",\n",
        "\tcolumns=\"Year\",\n",
        "\taggfunc=np.sum\n",
        ")\n",
        "\n",
        "# Plot a bar chart using the DF\n",
        "ax = df_pivot.plot(kind=\"bar\")\n",
        "\n",
        "# Get a Matplotlib figure from the axes object for formatting purposes\n",
        "fig = ax.get_figure()\n",
        "\n",
        "# Change the plot dimensions (width, height)\n",
        "fig.set_size_inches(7, 6)\n",
        "\n",
        "# Change the axes labels\n",
        "ax.set_xlabel(\"Violation Type\")\n",
        "ax.set_ylabel(\"Number of Violations\")\n",
        "\n",
        "# Visualize the data\n",
        "plt.show()"
      ],
      "execution_count": 22,
      "outputs": [
        {
          "output_type": "stream",
          "text": [
            "+--------------+----+--------------------+\n",
            "|Violation Type|Year|Number of Violations|\n",
            "+--------------+----+--------------------+\n",
            "|         ESERO|2014|                8212|\n",
            "|      Citation|2012|               55999|\n",
            "|       Warning|2015|              115926|\n",
            "|      Citation|2018|               28109|\n",
            "|       Warning|2018|               42665|\n",
            "|         ESERO|2017|                8850|\n",
            "|         ESERO|2015|               13828|\n",
            "|       Warning|2012|                4692|\n",
            "|      Citation|2014|               66311|\n",
            "|         ESERO|2018|                3719|\n",
            "|         ESERO|2013|                7254|\n",
            "|      Citation|2013|               85065|\n",
            "|       Warning|2017|              102487|\n",
            "|       Warning|2013|               40715|\n",
            "|          SERO|2013|                   2|\n",
            "|      Citation|2015|              105595|\n",
            "|      Citation|2017|               77436|\n",
            "|       Warning|2016|              108036|\n",
            "|         ESERO|2016|               10827|\n",
            "|      Citation|2016|              100790|\n",
            "+--------------+----+--------------------+\n",
            "only showing top 20 rows\n",
            "\n"
          ],
          "name": "stdout"
        },
        {
          "output_type": "display_data",
          "data": {
            "image/png": "[encoded data removed]",
            "text/plain": [
              "<Figure size 504x432 with 1 Axes>"
            ]
          },
          "metadata": {
            "tags": [],
            "needs_background": "light"
          }
        }
      ]
    },
    {
      "cell_type": "markdown",
      "metadata": {
        "id": "y6qK8Botfw4m"
      },
      "source": [
        "### **9. Probability of contributing to accidents with respect to manufacturing year**"
      ]
    },
    {
      "cell_type": "code",
      "metadata": {
        "colab": {
          "base_uri": "https://localhost:8080/"
        },
        "id": "j-CONYQwf0ge",
        "outputId": "7df9b817-3fee-4e3c-a4e1-d47ff0085a81"
      },
      "source": [
        "df = data.select('Year','make','Contributed To Accident')\n",
        "df = df.dropna(subset=['Year'])\n",
        "df_grouped = df.groupby('Year','make').agg(count('Contributed To Accident').alias('All Count'))\n",
        "df_grouped.show()\n",
        "print(df_grouped.count())\n",
        "df_yes = df.where(col('Contributed To Accident')=='Yes')\n",
        "df_yes = df_yes.groupby('Year','make').agg(count('Contributed To Accident').alias('Yes Count'))\n",
        "df_yes.show()\n",
        "df_yes.count()"
      ],
      "execution_count": 23,
      "outputs": [
        {
          "output_type": "stream",
          "text": [
            "+----+-----------+---------+\n",
            "|Year|       make|All Count|\n",
            "+----+-----------+---------+\n",
            "|1996|       FORD|     1434|\n",
            "|1996|       CHEV|      466|\n",
            "|2010|       CHEV|     1358|\n",
            "|2001|   CHRYSLER|      397|\n",
            "|2005|      LOTUS|        5|\n",
            "|1990|      VOLVO|       64|\n",
            "|2014|   CHRYSLER|      438|\n",
            "|1987|  MERECEDES|        5|\n",
            "|2014|     ACURRA|        2|\n",
            "|1998|     TOYTOA|       21|\n",
            "|2006|MINIVAL2006|        3|\n",
            "|2005|  CADIALLAC|        1|\n",
            "|2005|       HUMM|       14|\n",
            "|2000|RANGE ROVER|        4|\n",
            "|2016|   INFINITY|       32|\n",
            "|2004|       VOLO|        1|\n",
            "|2006|     PONIAC|        5|\n",
            "|   0|    BICYCLE|       10|\n",
            "|1998|      INFIN|        4|\n",
            "|2004|    CHRYLER|        2|\n",
            "+----+-----------+---------+\n",
            "only showing top 20 rows\n",
            "\n",
            "11777\n",
            "+----+--------------+---------+\n",
            "|Year|          make|Yes Count|\n",
            "+----+--------------+---------+\n",
            "|1996|          FORD|       45|\n",
            "|2014|      CHRYSLER|       10|\n",
            "|1998|        TOYTOA|        1|\n",
            "|2010|          CHEV|       20|\n",
            "|2001|      CHRYSLER|        7|\n",
            "|1996|          CHEV|       13|\n",
            "|2003|            UD|        1|\n",
            "|1966|           CHY|        2|\n",
            "|2005|    GILLIG LLC|        1|\n",
            "|1998|VAN HOOL T2145|        1|\n",
            "|1997|          HOND|       26|\n",
            "|2007|      INFINITI|       10|\n",
            "|2010|         MAZDA|       23|\n",
            "|2006|        SUZUKI|        6|\n",
            "|2017|          MACK|        1|\n",
            "|1999| INTERNATIONAL|        2|\n",
            "|1988|         CHEVY|        2|\n",
            "|2014|    VOLKSWAGEN|        2|\n",
            "|1997|         HONDA|       88|\n",
            "|1996|        NISSAN|       17|\n",
            "+----+--------------+---------+\n",
            "only showing top 20 rows\n",
            "\n"
          ],
          "name": "stdout"
        },
        {
          "output_type": "execute_result",
          "data": {
            "text/plain": [
              "1951"
            ]
          },
          "metadata": {
            "tags": []
          },
          "execution_count": 23
        }
      ]
    },
    {
      "cell_type": "code",
      "metadata": {
        "colab": {
          "base_uri": "https://localhost:8080/"
        },
        "id": "0dP-WpEPhmjj",
        "outputId": "44d517e1-fca8-4247-9d3d-ba5a290fde4a"
      },
      "source": [
        "df_joined = df_yes.join(df_grouped, on=['year','make'], how='left')\n",
        "df_joined.show()\n",
        "df_joined.count()"
      ],
      "execution_count": 24,
      "outputs": [
        {
          "output_type": "stream",
          "text": [
            "+----+--------------+---------+---------+\n",
            "|Year|          make|Yes Count|All Count|\n",
            "+----+--------------+---------+---------+\n",
            "|1966|           CHY|        2|        2|\n",
            "|1996|          CHEV|       13|      466|\n",
            "|1996|          FORD|       45|     1434|\n",
            "|1998|        TOYTOA|        1|       21|\n",
            "|1998|VAN HOOL T2145|        1|        1|\n",
            "|2001|      CHRYSLER|        7|      397|\n",
            "|2003|            UD|        1|        4|\n",
            "|2005|    GILLIG LLC|        1|        1|\n",
            "|2010|          CHEV|       20|     1358|\n",
            "|2014|      CHRYSLER|       10|      438|\n",
            "|1988|         CHEVY|        2|       40|\n",
            "|1997|          HOND|       26|      911|\n",
            "|1999| INTERNATIONAL|        2|       32|\n",
            "|2006|        SUZUKI|        6|      239|\n",
            "|2007|      INFINITI|       10|      406|\n",
            "|2010|         MAZDA|       23|     1162|\n",
            "|2017|          MACK|        1|        4|\n",
            "|1989|           ABY|        1|        2|\n",
            "|1994|        NISSAN|        7|      211|\n",
            "|1996|        NISSAN|       17|      677|\n",
            "+----+--------------+---------+---------+\n",
            "only showing top 20 rows\n",
            "\n"
          ],
          "name": "stdout"
        },
        {
          "output_type": "execute_result",
          "data": {
            "text/plain": [
              "1951"
            ]
          },
          "metadata": {
            "tags": []
          },
          "execution_count": 24
        }
      ]
    },
    {
      "cell_type": "code",
      "metadata": {
        "colab": {
          "base_uri": "https://localhost:8080/"
        },
        "id": "nh7PZsNIkWxp",
        "outputId": "b9311ab0-f795-44f5-d1ee-8107212102b1"
      },
      "source": [
        "df = df_joined.withColumn(\"Ratio\",col(\"Yes Count\")/ col('All Count'))\n",
        "df.show()\n",
        "df = df.orderBy(col('Yes Count').desc()).limit(20)\n",
        "df.show()"
      ],
      "execution_count": 25,
      "outputs": [
        {
          "output_type": "stream",
          "text": [
            "+----+--------------+---------+---------+--------------------+\n",
            "|Year|          make|Yes Count|All Count|               Ratio|\n",
            "+----+--------------+---------+---------+--------------------+\n",
            "|1966|           CHY|        2|        2|                 1.0|\n",
            "|1996|          CHEV|       13|      466|0.027896995708154508|\n",
            "|1996|          FORD|       45|     1434| 0.03138075313807531|\n",
            "|1998|        TOYTOA|        1|       21|0.047619047619047616|\n",
            "|1998|VAN HOOL T2145|        1|        1|                 1.0|\n",
            "|2001|      CHRYSLER|        7|      397|0.017632241813602016|\n",
            "|2003|            UD|        1|        4|                0.25|\n",
            "|2005|    GILLIG LLC|        1|        1|                 1.0|\n",
            "|2010|          CHEV|       20|     1358|0.014727540500736377|\n",
            "|2014|      CHRYSLER|       10|      438|  0.0228310502283105|\n",
            "|1988|         CHEVY|        2|       40|                0.05|\n",
            "|1997|          HOND|       26|      911| 0.02854006586169045|\n",
            "|1999| INTERNATIONAL|        2|       32|              0.0625|\n",
            "|2006|        SUZUKI|        6|      239| 0.02510460251046025|\n",
            "|2007|      INFINITI|       10|      406|0.024630541871921183|\n",
            "|2010|         MAZDA|       23|     1162|0.019793459552495698|\n",
            "|2017|          MACK|        1|        4|                0.25|\n",
            "|1989|           ABY|        1|        2|                 0.5|\n",
            "|1994|        NISSAN|        7|      211| 0.03317535545023697|\n",
            "|1996|        NISSAN|       17|      677|0.025110782865583457|\n",
            "+----+--------------+---------+---------+--------------------+\n",
            "only showing top 20 rows\n",
            "\n",
            "+----+------+---------+---------+--------------------+\n",
            "|Year|  make|Yes Count|All Count|               Ratio|\n",
            "+----+------+---------+---------+--------------------+\n",
            "|2007|TOYOTA|      267|     7343| 0.03636116028871034|\n",
            "|2012|TOYOTA|      253|     6898| 0.03667729776746883|\n",
            "|2011|TOYOTA|      220|     7414| 0.02967359050445104|\n",
            "|2003| HONDA|      212|     6398| 0.03313535479837449|\n",
            "|2004| HONDA|      206|     6383|0.032273225755914146|\n",
            "|2008| HONDA|      206|     6018| 0.03423064140910601|\n",
            "|2005|TOYOTA|      203|     6630|  0.0306184012066365|\n",
            "|2012| HONDA|      199|     6852|0.029042615294804435|\n",
            "|2006|TOYOTA|      192|     6059| 0.03168839742531771|\n",
            "|2010|TOYOTA|      189|     6996|0.027015437392795882|\n",
            "|2005|  FORD|      181|     5317|0.034041752868158734|\n",
            "|2002|  FORD|      179|     6048|0.029596560846560847|\n",
            "|2013| HONDA|      178|     5824|0.030563186813186812|\n",
            "|2014|TOYOTA|      174|     6728| 0.02586206896551724|\n",
            "|2003|  FORD|      174|     6360|0.027358490566037737|\n",
            "|2000|  FORD|      167|     5315|0.031420507996237065|\n",
            "|2004|  FORD|      167|     5834|0.028625299965718203|\n",
            "|2000|TOYOTA|      165|     4598| 0.03588516746411483|\n",
            "|2002|TOYOTA|      165|     4978| 0.03314584170349538|\n",
            "|2002| HONDA|      164|     5179| 0.03166634485421896|\n",
            "+----+------+---------+---------+--------------------+\n",
            "\n"
          ],
          "name": "stdout"
        }
      ]
    },
    {
      "cell_type": "code",
      "metadata": {
        "colab": {
          "base_uri": "https://localhost:8080/",
          "height": 403
        },
        "id": "f0pe17_NmKUg",
        "outputId": "c4325f49-0bb9-4ee4-bb8c-6179ba45f966"
      },
      "source": [
        "df = df.toPandas()\n",
        "# Creating Pviot using 3 dimensions(Violation Type, Year,Count)\n",
        "df_pivot = pd.pivot_table(\n",
        "\tdf,\n",
        "\tvalues=\"Ratio\",\n",
        "\tindex=\"Year\",\n",
        "\tcolumns=\"make\",\n",
        "\taggfunc=np.sum\n",
        ")\n",
        "\n",
        "# Plot a bar chart using the DF\n",
        "ax = df_pivot.plot(kind=\"bar\")\n",
        "\n",
        "# Get a Matplotlib figure from the axes object for formatting purposes\n",
        "fig = ax.get_figure()\n",
        "\n",
        "# Change the plot dimensions (width, height)\n",
        "fig.set_size_inches(7, 6)\n",
        "\n",
        "# Change the axes labels\n",
        "ax.set_xlabel(\"Manufactured Year\")\n",
        "ax.set_ylabel(\"Contibuted to accidents/Number of sales\")\n",
        "\n",
        "# Visualize the data\n",
        "plt.show()\n"
      ],
      "execution_count": 26,
      "outputs": [
        {
          "output_type": "display_data",
          "data": {
            "image/png": "[encoded data removed]",
            "text/plain": [
              "<Figure size 504x432 with 1 Axes>"
            ]
          },
          "metadata": {
            "tags": [],
            "needs_background": "light"
          }
        }
      ]
    },
    {
      "cell_type": "markdown",
      "metadata": {
        "id": "fb99cEK4nSZe"
      },
      "source": [
        "### **10. Indentify the correlation between accidents and time of the day with day of the week**"
      ]
    },
    {
      "cell_type": "code",
      "metadata": {
        "colab": {
          "base_uri": "https://localhost:8080/",
          "height": 1000
        },
        "id": "SwcIR2Aynlz6",
        "outputId": "f5dd97a3-38d8-4536-f33b-b4064dc8a419"
      },
      "source": [
        "from pyspark.sql.functions import unix_timestamp\n",
        "from pyspark.sql.functions import from_unixtime\n",
        "from pyspark.sql.window import Window\n",
        "\n",
        "# Select relevent columns\n",
        "df_task15 = data.select('Date Of Stop','Time Of Stop','Contributed To Accident')\n",
        "\n",
        "# Filter the data where accidents occur\n",
        "df_task15 = df_task15.where(df_task15['Contributed to Accident'] == 'Yes')\n",
        "\n",
        "# Filter the day of week where accidents occur\n",
        "d_day= df_task15.select(hour(\"Time Of Stop\").alias('hour'),from_unixtime(unix_timestamp('Date Of Stop', 'MM/dd/yyyy')).alias('date'),'Contributed To Accident')\n",
        "d_day = d_day.withColumn(\"date\", date_format(col(\"date\"), \"EEEE\"))\n",
        "d_day.show()\n",
        "d_day = d_day.sort('hour')\n",
        "# Group data.\n",
        "d_day = d_day.groupby([\"hour\",\"date\"]).agg(count(\"Contributed To Accident\").alias('Number of Accidents'))\n",
        "group_data = d_day.sort('hour')\n",
        "group_data.show()\n",
        "\n",
        "\n",
        "# Chart\n",
        "# convert DataFrame into Pandas\n",
        "df_pandas = group_data.toPandas()\n",
        "df_pandas\n",
        "\n",
        "# Creating dimensions(VehicleType,Contributed To Accident,count)\n",
        "df_pivot = pd.pivot_table(\n",
        "\tdf_pandas,\n",
        "\tvalues=\"Number of Accidents\",\n",
        "\tindex=\"hour\",\n",
        "\tcolumns=\"date\",\n",
        "\taggfunc=np.sum\n",
        ")\n",
        "\n",
        "# Plot a bar chart using the DF\n",
        "ax=df_pivot.plot(kind=\"bar\")\n",
        "\n",
        "# Get a Matplotlib figure from the axes object for formatting purposes\n",
        "fig = ax.get_figure()\n",
        "\n",
        "# Change the plot dimensions (width, height)\n",
        "fig.set_size_inches(10, 8)\n",
        "\n",
        "# Change the axes labels\n",
        "ax.set_xlabel(\"Hour of Day\")\n",
        "ax.set_ylabel(\"Number of Accidents\")\n",
        "\n",
        "\n",
        "# Visualize the data\n",
        "plt.show()\n"
      ],
      "execution_count": 28,
      "outputs": [
        {
          "output_type": "stream",
          "text": [
            "+----+---------+-----------------------+\n",
            "|hour|     date|Contributed To Accident|\n",
            "+----+---------+-----------------------+\n",
            "|  17|   Monday|                    Yes|\n",
            "|  14| Thursday|                    Yes|\n",
            "|  14|   Monday|                    Yes|\n",
            "|   9| Saturday|                    Yes|\n",
            "|  18| Thursday|                    Yes|\n",
            "|  15|   Sunday|                    Yes|\n",
            "|  21|   Friday|                    Yes|\n",
            "|   7| Thursday|                    Yes|\n",
            "|  11|  Tuesday|                    Yes|\n",
            "|   3|   Sunday|                    Yes|\n",
            "|  15|   Sunday|                    Yes|\n",
            "|  12|   Friday|                    Yes|\n",
            "|  16|  Tuesday|                    Yes|\n",
            "|  12| Saturday|                    Yes|\n",
            "|  14|   Friday|                    Yes|\n",
            "|  14|   Friday|                    Yes|\n",
            "|   4|   Sunday|                    Yes|\n",
            "|  13|  Tuesday|                    Yes|\n",
            "|  16| Saturday|                    Yes|\n",
            "|  14|Wednesday|                    Yes|\n",
            "+----+---------+-----------------------+\n",
            "only showing top 20 rows\n",
            "\n",
            "+----+---------+-------------------+\n",
            "|hour|     date|Number of Accidents|\n",
            "+----+---------+-------------------+\n",
            "|   0|Wednesday|                128|\n",
            "|   0| Saturday|                168|\n",
            "|   0|   Friday|                 82|\n",
            "|   0|   Monday|                175|\n",
            "|   0|  Tuesday|                103|\n",
            "|   0|   Sunday|                284|\n",
            "|   0| Thursday|                123|\n",
            "|   1|  Tuesday|                 51|\n",
            "|   1|   Monday|                130|\n",
            "|   1| Thursday|                 52|\n",
            "|   1|   Sunday|                262|\n",
            "|   1|Wednesday|                 91|\n",
            "|   1| Saturday|                186|\n",
            "|   1|   Friday|                101|\n",
            "|   2|   Friday|                149|\n",
            "|   2|   Monday|                 83|\n",
            "|   2|Wednesday|                 65|\n",
            "|   2| Saturday|                189|\n",
            "|   2| Thursday|                 74|\n",
            "|   2|  Tuesday|                 62|\n",
            "+----+---------+-------------------+\n",
            "only showing top 20 rows\n",
            "\n"
          ],
          "name": "stdout"
        },
        {
          "output_type": "display_data",
          "data": {
            "image/png": "[encoded data removed]",
            "text/plain": [
              "<Figure size 720x576 with 1 Axes>"
            ]
          },
          "metadata": {
            "tags": [],
            "needs_background": "light"
          }
        }
      ]
    },
    {
      "cell_type": "markdown",
      "metadata": {
        "id": "iZ03bQ6Zn9XW"
      },
      "source": [
        "### **11. Identify the most commonly occuring violation type which cause an accident from 2012 to 2018**"
      ]
    },
    {
      "cell_type": "code",
      "metadata": {
        "colab": {
          "base_uri": "https://localhost:8080/",
          "height": 1000
        },
        "id": "WCTBwRgnoRGj",
        "outputId": "f10d1e8e-7eac-4158-f221-761416f311b1"
      },
      "source": [
        "# Select relevent columns \n",
        "df_task2 = data.select(f.year(f.to_timestamp(data['Date Of Stop'],'MM/dd/yyyy')).alias('Year'),data['VehicleType'],data['make'],data['Violation Type'])\n",
        "df_task2.show()\n",
        "\n",
        "# Select only Automobiles\n",
        "df_task2 = df_task2.where(df_task2['VehicleType']=='02 - Automobile')\n",
        "df_task2.show()\n",
        "\n",
        "df_task2 = df_task2.groupBy('Violation Type','make').agg(count('make').alias('Count'))\n",
        "df_task2 = df_task2.sort(col('Count').desc()).limit(10)\n",
        "df_task2.show()\n",
        "\n",
        "# Dipaly Data\n",
        "df_task2.show()\n",
        "\n",
        "# convert DataFrame into Pandas\n",
        "df_pandas = df_task2.toPandas()\n",
        "\n",
        "# Creating Pviot using 3 dimensions(Violation Type, Year,Count)\n",
        "df_pivot = pd.pivot_table(\n",
        "\tdf_pandas,\n",
        "\tvalues=\"Count\",\n",
        "\tindex=\"make\",\n",
        "\tcolumns=\"Violation Type\",\n",
        "\taggfunc=np.sum\n",
        ")\n",
        "\n",
        "# Plot a bar chart using the DF\n",
        "ax = df_pivot.plot(kind=\"bar\")\n",
        "\n",
        "# Get a Matplotlib figure from the axes object for formatting purposes\n",
        "fig = ax.get_figure()\n",
        "\n",
        "# Change the plot dimensions (width, height)\n",
        "fig.set_size_inches(7, 7)\n",
        "\n",
        "# Change the axes labels\n",
        "ax.set_xlabel(\"Manufacturer\")\n",
        "ax.set_ylabel(\"Number of Violations\")\n",
        "\n",
        "# Visualize the data\n",
        "plt.show()"
      ],
      "execution_count": 29,
      "outputs": [
        {
          "output_type": "stream",
          "text": [
            "+----+---------------+-----------+--------------+\n",
            "|Year|    VehicleType|       make|Violation Type|\n",
            "+----+---------------+-----------+--------------+\n",
            "|2013|02 - Automobile|       FORD|      Citation|\n",
            "|2017|02 - Automobile|     TOYOTA|      Citation|\n",
            "|2014|02 - Automobile|      HONDA|      Citation|\n",
            "|2017|02 - Automobile|       DODG|      Citation|\n",
            "|2017|02 - Automobile|MINI COOPER|      Citation|\n",
            "|2013|02 - Automobile|    HYUNDAI|      Citation|\n",
            "|2013|02 - Automobile|       FORD|      Citation|\n",
            "|2015|02 - Automobile|      DODGE|      Citation|\n",
            "|2017|02 - Automobile|MINI COOPER|      Citation|\n",
            "|2017|02 - Automobile|MINI COOPER|      Citation|\n",
            "|2014|02 - Automobile|       CADI|      Citation|\n",
            "|2012|02 - Automobile|      HONDA|      Citation|\n",
            "|2012|02 - Automobile|  CHEVROLET|      Citation|\n",
            "|2012|02 - Automobile|       AUDI|      Citation|\n",
            "|2012|02 - Automobile|       TOYT|      Citation|\n",
            "|2012|02 - Automobile|      DODGE|      Citation|\n",
            "|2013|02 - Automobile|     SATURN|      Citation|\n",
            "|2013|02 - Automobile|      HONDA|      Citation|\n",
            "|2017|02 - Automobile|MINI COOPER|      Citation|\n",
            "|2015|02 - Automobile|     TOYOTA|      Citation|\n",
            "+----+---------------+-----------+--------------+\n",
            "only showing top 20 rows\n",
            "\n",
            "+----+---------------+-----------+--------------+\n",
            "|Year|    VehicleType|       make|Violation Type|\n",
            "+----+---------------+-----------+--------------+\n",
            "|2013|02 - Automobile|       FORD|      Citation|\n",
            "|2017|02 - Automobile|     TOYOTA|      Citation|\n",
            "|2014|02 - Automobile|      HONDA|      Citation|\n",
            "|2017|02 - Automobile|       DODG|      Citation|\n",
            "|2017|02 - Automobile|MINI COOPER|      Citation|\n",
            "|2013|02 - Automobile|    HYUNDAI|      Citation|\n",
            "|2013|02 - Automobile|       FORD|      Citation|\n",
            "|2015|02 - Automobile|      DODGE|      Citation|\n",
            "|2017|02 - Automobile|MINI COOPER|      Citation|\n",
            "|2017|02 - Automobile|MINI COOPER|      Citation|\n",
            "|2014|02 - Automobile|       CADI|      Citation|\n",
            "|2012|02 - Automobile|      HONDA|      Citation|\n",
            "|2012|02 - Automobile|  CHEVROLET|      Citation|\n",
            "|2012|02 - Automobile|       AUDI|      Citation|\n",
            "|2012|02 - Automobile|       TOYT|      Citation|\n",
            "|2012|02 - Automobile|      DODGE|      Citation|\n",
            "|2013|02 - Automobile|     SATURN|      Citation|\n",
            "|2013|02 - Automobile|      HONDA|      Citation|\n",
            "|2017|02 - Automobile|MINI COOPER|      Citation|\n",
            "|2015|02 - Automobile|     TOYOTA|      Citation|\n",
            "+----+---------------+-----------+--------------+\n",
            "only showing top 20 rows\n",
            "\n",
            "+--------------+------+-----+\n",
            "|Violation Type|  make|Count|\n",
            "+--------------+------+-----+\n",
            "|      Citation| HONDA|54643|\n",
            "|       Warning|TOYOTA|53330|\n",
            "|      Citation|TOYOTA|53288|\n",
            "|       Warning| HONDA|48233|\n",
            "|      Citation|  FORD|39240|\n",
            "|       Warning|  FORD|32151|\n",
            "|      Citation|NISSAN|28148|\n",
            "|       Warning|  TOYT|27995|\n",
            "|       Warning|NISSAN|23270|\n",
            "|      Citation|  TOYT|20820|\n",
            "+--------------+------+-----+\n",
            "\n",
            "+--------------+------+-----+\n",
            "|Violation Type|  make|Count|\n",
            "+--------------+------+-----+\n",
            "|      Citation| HONDA|54643|\n",
            "|       Warning|TOYOTA|53330|\n",
            "|      Citation|TOYOTA|53288|\n",
            "|       Warning| HONDA|48233|\n",
            "|      Citation|  FORD|39240|\n",
            "|       Warning|  FORD|32151|\n",
            "|      Citation|NISSAN|28148|\n",
            "|       Warning|  TOYT|27995|\n",
            "|       Warning|NISSAN|23270|\n",
            "|      Citation|  TOYT|20820|\n",
            "+--------------+------+-----+\n",
            "\n"
          ],
          "name": "stdout"
        },
        {
          "output_type": "display_data",
          "data": {
            "image/png": "[encoded data removed]",
            "text/plain": [
              "<Figure size 504x504 with 1 Axes>"
            ]
          },
          "metadata": {
            "tags": [],
            "needs_background": "light"
          }
        }
      ]
    }
  ]
}